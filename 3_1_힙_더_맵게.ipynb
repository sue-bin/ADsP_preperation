{
  "nbformat": 4,
  "nbformat_minor": 0,
  "metadata": {
    "colab": {
      "name": "3-1. 힙 - 더 맵게",
      "provenance": [],
      "collapsed_sections": [],
      "authorship_tag": "ABX9TyOUBugoFeRpmgAEUcbGm7Xx"
    },
    "kernelspec": {
      "name": "python3",
      "display_name": "Python 3"
    }
  },
  "cells": [
    {
      "cell_type": "code",
      "metadata": {
        "id": "HsYgbQHRWhVG"
      },
      "source": [
        "import heapq\n",
        "def solution(scoville, K):\n",
        "    heapq.heapify(scoville)\n",
        "    answer = 0\n",
        "    while scoville[0] < K:\n",
        "        a = 0\n",
        "        a += heapq.heappop(scoville)\n",
        "        a += heapq.heappop(scoville)*2\n",
        "        answer +=1\n",
        "    return answer"
      ],
      "execution_count": null,
      "outputs": []
    }
  ]
}